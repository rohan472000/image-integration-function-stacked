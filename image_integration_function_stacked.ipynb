{
  "nbformat": 4,
  "nbformat_minor": 0,
  "metadata": {
    "colab": {
      "provenance": [],
      "authorship_tag": "ABX9TyPLd2zU2wsfP7/kD4mQPk8a",
      "include_colab_link": true
    },
    "kernelspec": {
      "name": "python3",
      "display_name": "Python 3"
    },
    "language_info": {
      "name": "python"
    }
  },
  "cells": [
    {
      "cell_type": "markdown",
      "metadata": {
        "id": "view-in-github",
        "colab_type": "text"
      },
      "source": [
        "<a href=\"https://colab.research.google.com/github/rohan472000/img-integration-function-stacked/blob/main/image_integration_function_stacked.ipynb\" target=\"_parent\"><img src=\"https://colab.research.google.com/assets/colab-badge.svg\" alt=\"Open In Colab\"/></a>"
      ]
    },
    {
      "cell_type": "code",
      "execution_count": null,
      "metadata": {
        "id": "5KUA2LCadi9G"
      },
      "outputs": [],
      "source": [
        "import numpy as np\n",
        "import matplotlib.pyplot as plt\n",
        "import os\n",
        "\n",
        "\n",
        "import pandas as pd\n",
        "\n",
        "from google.colab import drive\n",
        "drive.mount('/content/drive')\n",
        "dirname='drive/My Drive/ak-wins/test.npy'\n",
        "reshape = np.load(dirname)"
      ]
    },
    {
      "cell_type": "code",
      "source": [
        "row = 6\n",
        "column = 7\n",
        "\n",
        "arr1 = []\n",
        "final = []\n",
        "count = 0\n",
        "\n",
        "for i in range(row):\n",
        "    arr = []\n",
        "    ar=[]\n",
        "    a = []\n",
        "    for j in range(column):\n",
        "            a.append(reshape[count,:,:])\n",
        "            count = count + 1\n",
        "            print('i is : ',i,'-----','j is : ',j,'-----','count is : ',count)      \n",
        "    ar.append(np.hstack(a))\n",
        "    arr.append(ar)   \n",
        "    arr1.append(ar)\n",
        "c = 0   \n",
        "lis = []\n",
        "for i in range(6):\n",
        "  lis.append(arr1[i])\n",
        "  c = c + 1\n",
        " \n",
        "fin = np.vstack(lis)"
      ],
      "metadata": {
        "id": "qcYRSK00eU3r"
      },
      "execution_count": null,
      "outputs": []
    },
    {
      "cell_type": "code",
      "source": [
        "list = []\n",
        "ct = 0\n",
        "for i in range(6):\n",
        "  list.insert(ct, fin[i,:,:])\n",
        "  ct = ct + 1\n",
        "  \n",
        "ak = np.vstack((list))\n",
        "plt.imshow(ak)  \n"
      ],
      "metadata": {
        "id": "UcBTdk83dpk0"
      },
      "execution_count": null,
      "outputs": []
    }
  ]
}